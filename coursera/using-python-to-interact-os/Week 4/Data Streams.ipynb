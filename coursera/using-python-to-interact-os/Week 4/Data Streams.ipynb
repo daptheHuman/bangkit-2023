{
 "cells": [
  {
   "attachments": {},
   "cell_type": "markdown",
   "metadata": {},
   "source": [
    "1.\n",
    "Question 1\n",
    "Which command will print out the exit value of a script that just ran successfully?\n",
    "\n",
    "1 / 1 point\n",
    "\n",
    "wc variables.py\n",
    "\n",
    "\n",
    "echo $?\n",
    "\n",
    "\n",
    "import sys\n",
    "\n",
    "\n",
    "echo $PATH\n",
    "\n",
    "Correct\n",
    "Great work! Echo will print out the exit value (question mark variable) of a script that just ran successfully."
   ]
  },
  {
   "attachments": {},
   "cell_type": "markdown",
   "metadata": {},
   "source": [
    "2.\n",
    "Question 2\n",
    "Which command will create a new environment variable?\n",
    "\n",
    "1 / 1 point\n",
    "\n",
    "input\n",
    "\n",
    "\n",
    "env\n",
    "\n",
    "\n",
    "export\n",
    "\n",
    "\n",
    "wc\n",
    "\n",
    "Correct\n",
    "Right on! This command will create a new environment variable, and give it a value."
   ]
  },
  {
   "attachments": {},
   "cell_type": "markdown",
   "metadata": {},
   "source": [
    "\n",
    "3.\n",
    "Question 3\n",
    "Which I/O stream are we using when we use the input function to accept user input in a Python script?\n",
    "\n",
    "1 / 1 point\n",
    "\n",
    "STDOUT\n",
    "\n",
    "\n",
    "STDERR\n",
    "\n",
    "\n",
    "STDIN\n",
    "\n",
    "\n",
    "SYS\n",
    "\n",
    "Correct\n",
    "Awesome! STDIN is the standard I/O stream for input."
   ]
  },
  {
   "attachments": {},
   "cell_type": "markdown",
   "metadata": {},
   "source": [
    "\n",
    "4.\n",
    "Question 4\n",
    "What is the meaning of an exit code of 0?\n",
    "\n",
    "1 / 1 point\n",
    "\n",
    "The program ended with an unspecified error.\n",
    "\n",
    "\n",
    "The program ended with a ValueError.\n",
    "\n",
    "\n",
    "The program ended with a TypeError.\n",
    "\n",
    "\n",
    "The program ended successfully.\n",
    "\n",
    "Correct\n",
    "Nice job! An exit value of 0 always indicates the program exited without error."
   ]
  },
  {
   "attachments": {},
   "cell_type": "markdown",
   "metadata": {},
   "source": [
    "\n",
    "5.\n",
    "Question 5\n",
    "Which statements are true about  input and raw_input in Python 2? (select all that apply)\n",
    "\n",
    "0 / 1 point\n",
    "\n",
    "input performs basic math operations.\n",
    "\n",
    "\n",
    "raw_input performs basic math operations.\n",
    "\n",
    "\n",
    "raw_input gets a string from the user.\n",
    "\n",
    "Correct\n",
    "Nice work! raw_input gets a raw string from the user.\n",
    "\n",
    "\n",
    "input  gets a string from the user.\n",
    "\n",
    "This should not be selected\n",
    "Not quite. In Python 2, input evaluates the user's input as an expression, while raw_input gets a string from the user.\n",
    "\n"
   ]
  }
 ],
 "metadata": {
  "language_info": {
   "name": "python"
  },
  "orig_nbformat": 4
 },
 "nbformat": 4,
 "nbformat_minor": 2
}
